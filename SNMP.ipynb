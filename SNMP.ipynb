{
 "cells": [
  {
   "cell_type": "markdown",
   "metadata": {},
   "source": [
    "# SNMP - Simple Network Management Protocol\n",
    "\n",
    "## Install snmpd tools, agent and mibs"
   ]
  },
  {
   "cell_type": "code",
   "execution_count": 1,
   "metadata": {},
   "outputs": [
    {
     "name": "stderr",
     "output_type": "stream",
     "text": [
      "\n",
      "WARNING: apt does not have a stable CLI interface. Use with caution in scripts.\n",
      "\n"
     ]
    },
    {
     "name": "stdout",
     "output_type": "stream",
     "text": [
      "Hit:1 http://archive.ubuntu.com/ubuntu focal InRelease\n",
      "Get:2 http://archive.ubuntu.com/ubuntu focal-updates InRelease [128 kB]\n",
      "Get:3 https://packages.microsoft.com/repos/microsoft-ubuntu-focal-prod focal InRelease [3632 B]\n",
      "Hit:4 https://dl.yarnpkg.com/debian stable InRelease\n",
      "Hit:5 http://archive.ubuntu.com/ubuntu focal-backports InRelease\n",
      "Hit:6 https://repo.anaconda.com/pkgs/misc/debrepo/conda stable InRelease\n",
      "Get:7 http://security.ubuntu.com/ubuntu focal-security InRelease [128 kB]\n",
      "Get:8 https://packages.microsoft.com/repos/microsoft-ubuntu-focal-prod focal/main amd64 Packages [297 kB]\n",
      "Get:10 http://archive.ubuntu.com/ubuntu focal-updates/restricted amd64 Packages [3882 kB]\n",
      "Get:11 http://archive.ubuntu.com/ubuntu focal-updates/universe amd64 Packages [1521 kB]\n",
      "Get:12 http://archive.ubuntu.com/ubuntu focal-updates/main amd64 Packages [4227 kB]\n",
      "Hit:9 https://packagecloud.io/github/git-lfs/ubuntu focal InRelease\n",
      "Get:13 http://security.ubuntu.com/ubuntu focal-security/main amd64 Packages [3756 kB]\n",
      "Get:14 http://security.ubuntu.com/ubuntu focal-security/universe amd64 Packages [1236 kB]\n",
      "Fetched 15.2 MB in 3s (5346 kB/s)\n",
      "Reading package lists...\n",
      "Building dependency tree...\n",
      "Reading state information...\n",
      "31 packages can be upgraded. Run 'apt list --upgradable' to see them.\n"
     ]
    },
    {
     "name": "stderr",
     "output_type": "stream",
     "text": [
      "\n",
      "WARNING: apt does not have a stable CLI interface. Use with caution in scripts.\n",
      "\n"
     ]
    },
    {
     "name": "stdout",
     "output_type": "stream",
     "text": [
      "Reading package lists...\n",
      "Building dependency tree...\n",
      "Reading state information...\n",
      "snmp-mibs-downloader is already the newest version (1.2).\n",
      "snmp is already the newest version (5.8+dfsg-2ubuntu2.9).\n",
      "snmpd is already the newest version (5.8+dfsg-2ubuntu2.9).\n",
      "0 upgraded, 0 newly installed, 0 to remove and 31 not upgraded.\n"
     ]
    }
   ],
   "source": [
    "%%bash\n",
    "\n",
    "sudo apt update\n",
    "sudo apt install -y snmp snmpd snmp-mibs-downloader"
   ]
  },
  {
   "cell_type": "markdown",
   "metadata": {},
   "source": [
    "## Configure agent configuration file (/etc/snmp/snmpd.conf) and snmp tools configuration file (/etc/snmp/snmp.conf)"
   ]
  },
  {
   "cell_type": "code",
   "execution_count": 2,
   "metadata": {},
   "outputs": [],
   "source": [
    "%%bash\n",
    "\n",
    "sudo mv /etc/snmp/snmpd.conf /etc/snmp/snmpd.conf.old\n",
    "\n",
    "sudo tee /etc/snmp/snmpd.conf > /dev/null <<EOF\n",
    "rocommunity public\n",
    "rwcommunity private\n",
    "EOF\n",
    "\n",
    "sudo sed -i '/mibs :/s/^/#/' /etc/snmp/snmp.conf"
   ]
  },
  {
   "cell_type": "markdown",
   "metadata": {},
   "source": [
    "## Start snmpd daemon (agent)"
   ]
  },
  {
   "cell_type": "code",
   "execution_count": 3,
   "metadata": {},
   "outputs": [
    {
     "name": "stdout",
     "output_type": "stream",
     "text": [
      " * snmpd is running\n"
     ]
    }
   ],
   "source": [
    "%%bash\n",
    "\n",
    "sudo service snmpd restart\n",
    "sudo service snmpd status"
   ]
  },
  {
   "cell_type": "markdown",
   "metadata": {},
   "source": [
    "## List all downloaded mibs"
   ]
  },
  {
   "cell_type": "code",
   "execution_count": 4,
   "metadata": {},
   "outputs": [
    {
     "name": "stdout",
     "output_type": "stream",
     "text": [
      "/usr/share/snmp/mibs:\n",
      "CarroAutonomo.txt\n",
      "GNOME-SMI.txt\n",
      "LM-SENSORS-MIB.txt\n",
      "NET-SNMP-AGENT-MIB.txt\n",
      "NET-SNMP-EXAMPLES-MIB.txt\n",
      "NET-SNMP-EXTEND-MIB.txt\n",
      "NET-SNMP-MIB.txt\n",
      "NET-SNMP-MONITOR-MIB.txt\n",
      "NET-SNMP-PASS-MIB.txt\n",
      "NET-SNMP-PERIODIC-NOTIFY-MIB.txt\n",
      "NET-SNMP-SYSTEM-MIB.txt\n",
      "NET-SNMP-TC.txt\n",
      "NET-SNMP-VACM-MIB.txt\n",
      "UCD-DEMO-MIB.txt\n",
      "UCD-DISKIO-MIB.txt\n",
      "UCD-DLMOD-MIB.txt\n",
      "UCD-IPFILTER-MIB.txt\n",
      "UCD-IPFWACC-MIB.txt\n",
      "UCD-SNMP-MIB-OLD.txt\n",
      "UCD-SNMP-MIB.txt\n",
      "iana\n",
      "ietf\n"
     ]
    }
   ],
   "source": [
    "%%bash\n",
    "\n",
    "ls -R /usr/share/snmp/mibs"
   ]
  },
  {
   "cell_type": "markdown",
   "metadata": {},
   "source": [
    "## Show CarroAutonomo object tree"
   ]
  },
  {
   "cell_type": "code",
   "execution_count": 16,
   "metadata": {},
   "outputs": [
    {
     "name": "stderr",
     "output_type": "stream",
     "text": [
      "Unlinked OID in CarroAutonomo-MIB: carroAutonomoMIB ::= { experimental 9999 }\n",
      "Undefined identifier: experimental near line 9 of /usr/share/snmp/mibs/CarroAutonomo.txt\n"
     ]
    },
    {
     "name": "stdout",
     "output_type": "stream",
     "text": [
      "+--iso(1)\n",
      "   |\n",
      "   +--org(3)\n",
      "      |\n",
      "      +--dod(6)\n",
      "         |\n",
      "         +--internet(1)\n",
      "            |\n",
      "            +--directory(1)\n",
      "            |\n",
      "            +--mgmt(2)\n",
      "            |  |\n",
      "            |  +--mib-2(1)\n",
      "            |     |\n",
      "            |     +--transmission(10)\n",
      "            |\n",
      "            +--experimental(3)\n",
      "            |  |\n",
      "            |  +--carroAutonomoMIB(9999)\n",
      "            |     +-- -R-- String    manufacturer(1)\n",
      "            |     |        Textual Convention: DisplayString\n",
      "            |     |        Size: 0..255\n",
      "            |     +-- -R-- String    model(2)\n",
      "            |     |        Textual Convention: DisplayString\n",
      "            |     |        Size: 0..255\n",
      "            |     +-- -R-- String    serialNumber(3)\n",
      "            |     |        Textual Convention: DisplayString\n",
      "            |     |        Size: 0..255\n",
      "            |     +-- -R-- String    softwareVersion(4)\n",
      "            |     |        Textual Convention: DisplayString\n",
      "            |     |        Size: 0..255\n",
      "            |     +-- -RW- Integer32 desiredSpeed(5)\n",
      "            |     |        Range: 0..200\n",
      "            |     +-- -R-- Integer32 currentSpeed(6)\n",
      "            |     |        Range: 0..200\n",
      "            |     +-- -RW- EnumVal   engineStatus(7)\n",
      "            |     |        Values: off(1), on(2), maintenance(3)\n",
      "            |     +-- -R-- Counter   distanceTraveled(8)\n",
      "            |     +-- -R-- Integer32 fuelLevel(9)\n",
      "            |     |        Range: 0..100\n",
      "            |     +-- -R-- Integer32 batteryLevel(10)\n",
      "            |     |        Range: 0..100\n",
      "            |     +-- -RW- EnumVal   maintenanceMode(11)\n",
      "            |     |        Values: disabled(1), enabled(2)\n",
      "            |     |\n",
      "            |     +--sensorTable(12)\n",
      "            |        |\n",
      "            |        +--sensorEntry(1)\n",
      "            |           |  Index: sensorIndex\n",
      "            |           |\n",
      "            |           +-- -R-- Integer32 sensorIndex(1)\n",
      "            |           |        Range: 1..1000\n",
      "            |           +-- -R-- String    sensorType(2)\n",
      "            |           |        Textual Convention: DisplayString\n",
      "            |           |        Size: 0..255\n",
      "            |           +-- -R-- Gauge     sensorValue(3)\n",
      "            |\n",
      "            +--private(4)\n",
      "            |  |\n",
      "            |  +--enterprises(1)\n",
      "            |\n",
      "            +--security(5)\n",
      "            |\n",
      "            +--snmpV2(6)\n",
      "               |\n",
      "               +--snmpDomains(1)\n",
      "               |\n",
      "               +--snmpProxys(2)\n",
      "               |\n",
      "               +--snmpModules(3)\n"
     ]
    }
   ],
   "source": [
    "%%bash\n",
    "\n",
    "# Variables\n",
    "MIB=\"/usr/share/snmp/mibs/CarroAutonomo.txt\"\n",
    "\n",
    "snmptranslate -m $MIB -Tp"
   ]
  },
  {
   "cell_type": "markdown",
   "metadata": {},
   "source": [
    "## Show the description of a specific object"
   ]
  },
  {
   "cell_type": "code",
   "execution_count": 17,
   "metadata": {},
   "outputs": [
    {
     "name": "stdout",
     "output_type": "stream",
     "text": [
      "batteryLevel OBJECT-TYPE\n",
      "    SYNTAX  Integer32 (0..100)\n",
      "    MAX-ACCESS read-only\n",
      "    STATUS  current\n",
      "    DESCRIPTION\n",
      "        \"Current battery level of the autonomous car (percentage).\"\n",
      "    ::= { carroAutonomoMIB 10 }\n"
     ]
    }
   ],
   "source": [
    "%%bash\n",
    "\n",
    "# Variables\n",
    "OBJECT=\"batteryLevel\"\n",
    "MIB=\"/usr/share/snmp/mibs/CarroAutonomo.txt\"\n",
    "\n",
    "# Command to extract text from search_string to } excluding the }\n",
    "sed -n \"/$OBJECT OBJECT-TYPE/,/}/p\" $MIB"
   ]
  },
  {
   "cell_type": "markdown",
   "metadata": {},
   "source": [
    "# Example using pass directive"
   ]
  },
  {
   "cell_type": "markdown",
   "metadata": {},
   "source": [
    "## snmpd.conf"
   ]
  },
  {
   "cell_type": "code",
   "execution_count": 5,
   "metadata": {},
   "outputs": [
    {
     "name": "stdout",
     "output_type": "stream",
     "text": [
      " * snmpd is running\n"
     ]
    }
   ],
   "source": [
    "%%bash\n",
    "\n",
    "# Add pass directive to snmpd.conf\n",
    "sudo tee /etc/snmp/snmpd.conf > /dev/null <<EOF\n",
    "rocommunity public\n",
    "rwcommunity private\n",
    "\n",
    "pass .1.3.6.1.3.9999 /usr/bin/python3 /tmp/agent.py\n",
    "EOF\n",
    "\n",
    "# Restart agent\n",
    "sudo service snmpd restart\n",
    "sudo service snmpd status"
   ]
  },
  {
   "cell_type": "markdown",
   "metadata": {},
   "source": [
    "## Agent code"
   ]
  },
  {
   "cell_type": "code",
   "execution_count": 18,
   "metadata": {},
   "outputs": [
    {
     "name": "stdout",
     "output_type": "stream",
     "text": [
      "Overwriting /tmp/agent.py\n"
     ]
    }
   ],
   "source": [
    "%%writefile /tmp/agent.py\n",
    "\n",
    "#!/usr/bin/env python3\n",
    "\n",
    "import sys\n",
    "import os\n",
    "import tempfile\n",
    "\n",
    "# Definindo o arquivo de dados no diretório temporário do sistema\n",
    "data_file = os.path.join(tempfile.gettempdir(), 'agent_data.txt')\n",
    "\n",
    "# Variáveis iniciais\n",
    "manufacturer = \"Tesla\"  # The manufacturer of the autonomous car.\n",
    "model = \"S\"  # The model of the autonomous car.\n",
    "serialNumber = \"5YJ3E1EA7JF000000\"  # The serial number of the autonomous car.\n",
    "softwareVersion = \"2023.20.11\"  # The software version running on the autonomous car.\n",
    "desiredSpeed = 100  # The desired speed set for the autonomous car.\n",
    "currentSpeed = 0  # The current speed of the autonomous car.\n",
    "engineStatus = 1  # off(1), on(2), maintenance(3)\n",
    "distanceTraveled = 0  # Total distance traveled by the autonomous car.\n",
    "fuelLevel = 100  # Current fuel level of the autonomous car (percentage).\n",
    "batteryLevel = 30  # Current battery level of the autonomous car (percentage).\n",
    "maintenanceMode = 0  # Indicates if the maintenance mode is enabled or disabled.\n",
    "\n",
    "# Mapeamento de OIDs para seus sucessores\n",
    "oid_map = {\n",
    "    \".1.3.6.1.3.9999.1.0\": \".1.3.6.1.3.9999.2.0\",\n",
    "    \".1.3.6.1.3.9999.2.0\": \".1.3.6.1.3.9999.3.0\",\n",
    "    \".1.3.6.1.3.9999.3.0\": \".1.3.6.1.3.9999.4.0\",\n",
    "    \".1.3.6.1.3.9999.4.0\": \".1.3.6.1.3.9999.5.0\",\n",
    "    \".1.3.6.1.3.9999.5.0\": \".1.3.6.1.3.9999.6.0\",\n",
    "    \".1.3.6.1.3.9999.6.0\": \".1.3.6.1.3.9999.7.0\",\n",
    "    \".1.3.6.1.3.9999.7.0\": \".1.3.6.1.3.9999.8.0\",\n",
    "    \".1.3.6.1.3.9999.8.0\": \".1.3.6.1.3.9999.9.0\",\n",
    "    \".1.3.6.1.3.9999.9.0\": \".1.3.6.1.3.9999.10.0\",\n",
    "    \".1.3.6.1.3.9999.10.0\": \".1.3.6.1.3.9999.11.0\",\n",
    "}\n",
    "\n",
    "# Funções de obtenção de valores\n",
    "def get_manufacturer():\n",
    "    return manufacturer\n",
    "\n",
    "def get_model():\n",
    "    return model\n",
    "\n",
    "def get_serialNumber():\n",
    "    return serialNumber\n",
    "\n",
    "def get_softwareVersion():\n",
    "    return softwareVersion\n",
    "\n",
    "def get_desiredSpeed():\n",
    "    return desiredSpeed\n",
    "\n",
    "def get_currentSpeed():\n",
    "    return currentSpeed\n",
    "\n",
    "def get_engineStatus():\n",
    "    return engineStatus\n",
    "\n",
    "def get_distanceTraveled():\n",
    "    return distanceTraveled\n",
    "\n",
    "def get_fuelLevel():\n",
    "    return fuelLevel\n",
    "\n",
    "def get_batteryLevel():\n",
    "    return batteryLevel\n",
    "\n",
    "def get_maintenanceMode():\n",
    "    return maintenanceMode\n",
    "\n",
    "# Funções de alteração de valores\n",
    "def set_desiredSpeed(value):\n",
    "    global desiredSpeed\n",
    "    desiredSpeed = int(value)\n",
    "    save_values()\n",
    "    return desiredSpeed\n",
    "\n",
    "def set_engineStatus(value):\n",
    "    global engineStatus\n",
    "    engineStatus = int(value)\n",
    "    save_values()\n",
    "    return engineStatus\n",
    "\n",
    "def set_maintenanceMode(value):\n",
    "    global maintenanceMode\n",
    "    maintenanceMode = int(value)\n",
    "    save_values()\n",
    "    return maintenanceMode\n",
    "\n",
    "# Função para salvar os valores no arquivo\n",
    "def save_values():\n",
    "    with open(data_file, 'w') as file:\n",
    "        file.write(f\"{desiredSpeed},{engineStatus}\")\n",
    "\n",
    "# Função para carregar os valores do arquivo\n",
    "def load_values():\n",
    "    global desiredSpeed, engineStatus\n",
    "    try:\n",
    "        with open(data_file, 'r') as file:\n",
    "            data = file.readline().strip()\n",
    "            if data:\n",
    "                desiredSpeed, engineStatus = map(int, data.split(','))\n",
    "    except FileNotFoundError:\n",
    "        pass  # Arquivo ainda não existe, valores padrão serão usados\n",
    "\n",
    "# Função para responder a requisições GET\n",
    "def get_response(oid):\n",
    "    if oid == \".1.3.6.1.3.9999.1.0\": # MANUFACTURER\n",
    "        print(\".1.3.6.1.3.9999.1.0\")\n",
    "        print(\"string\")\n",
    "        print(get_manufacturer())\n",
    "    elif oid == \".1.3.6.1.3.9999.2.0\": # MODEL\n",
    "        print(\".1.3.6.1.3.9999.2.0\")\n",
    "        print(\"string\")\n",
    "        print(get_model())\n",
    "    elif oid == \".1.3.6.1.3.9999.3.0\": # serialNumber\n",
    "        print(\".1.3.6.1.3.9999.3.0\")\n",
    "        print(\"string\")\n",
    "        print(get_serialNumber())\n",
    "    elif oid == \".1.3.6.1.3.9999.4.0\": # softwareVersion\n",
    "        print(\".1.3.6.1.3.9999.4.0\")\n",
    "        print(\"string\")\n",
    "        print(get_softwareVersion())\n",
    "    elif oid == \".1.3.6.1.3.9999.5.0\": # desiredSpeed\n",
    "        print(\".1.3.6.1.3.9999.5.0\")\n",
    "        print(\"integer\")\n",
    "        print(get_desiredSpeed())\n",
    "    elif oid == \".1.3.6.1.3.9999.6.0\": # currentSpeed\n",
    "        print(\".1.3.6.1.3.9999.6.0\")\n",
    "        print(\"integer\")\n",
    "        print(get_currentSpeed())\n",
    "    elif oid == \".1.3.6.1.3.9999.7.0\": # engineStatus\n",
    "        print(\".1.3.6.1.3.9999.7.0\")\n",
    "        print(\"integer\")\n",
    "        print(get_engineStatus())\n",
    "    elif oid == \".1.3.6.1.3.9999.8.0\": # distanceTraveled\n",
    "        print(\".1.3.6.1.3.9999.8.0\")\n",
    "        print(\"integer\")\n",
    "        print(get_distanceTraveled())\n",
    "    elif oid == \".1.3.6.1.3.9999.9.0\": # fuelLevel\n",
    "        print(\".1.3.6.1.3.9999.9.0\")\n",
    "        print(\"integer\")\n",
    "        print(get_fuelLevel())\n",
    "    elif oid == \".1.3.6.1.3.9999.10.0\": # batteryLevel\n",
    "        print(\".1.3.6.1.3.9999.10.0\")\n",
    "        print(\"integer\")\n",
    "        print(get_batteryLevel())\n",
    "    elif oid == \".1.3.6.1.3.9999.11.0\": # maintenanceMode\n",
    "        print(\".1.3.6.1.3.9999.11.0\")\n",
    "        print(\"integer\")\n",
    "        print(get_maintenanceMode())\n",
    "    else:\n",
    "        print(\"NONE1\")\n",
    "\n",
    "# Função para responder a requisições GETNEXT\n",
    "def get_next_response(oid):\n",
    "    next_oid = oid_map.get(oid, None)\n",
    "    if next_oid:\n",
    "        get_response(next_oid)\n",
    "    else:\n",
    "        print(\"NONE3\")\n",
    "\n",
    "# Função para responder a requisições SET\n",
    "def set_response(oid, type, value):\n",
    "    if oid == \".1.3.6.1.3.9999.5.0\":  # desiredSpeed\n",
    "        result = set_desiredSpeed(value)\n",
    "        print(\".1.3.6.1.3.9999.5.0\")\n",
    "        print(type)\n",
    "        print(result)\n",
    "    elif oid == \".1.3.6.1.3.9999.7.0\":  # engineStatus\n",
    "        result = set_engineStatus(value)\n",
    "        print(\".1.3.6.1.3.9999.7.0\")\n",
    "        print(type)\n",
    "        print(result)\n",
    "    elif oid == \".1.3.6.1.3.9999.11.0\":  # maintenanceMode\n",
    "        result = set_maintenanceMode(value)\n",
    "        print(\".1.3.6.1.3.9999.11.0\")\n",
    "        print(type)\n",
    "        print(result)\n",
    "    else:\n",
    "        print(f\"Unsupported OID: {oid}\")\n",
    "\n",
    "# Função principal para determinar o tipo de requisição\n",
    "def main():\n",
    "    load_values()  # Carrega os valores iniciais do arquivo, se existir\n",
    "\n",
    "    if len(sys.argv) == 3:\n",
    "        if sys.argv[1] == \"-g\":\n",
    "            get_response(sys.argv[2])\n",
    "        elif sys.argv[1] == \"-gn\":\n",
    "            get_next_response(sys.argv[2])\n",
    "    elif len(sys.argv) == 5:\n",
    "        set_response(sys.argv[2], sys.argv[3], sys.argv[4])\n",
    "    else:\n",
    "        print(\"Usage: agent.py <MIB-oid> <request-type> <type> <value>\")\n",
    "\n",
    "    save_values()  # Salva os valores atualizados no arquivo\n",
    "\n",
    "if __name__ == \"__main__\":\n",
    "    main()\n"
   ]
  },
  {
   "cell_type": "markdown",
   "metadata": {},
   "source": [
    "## Restarting Agent"
   ]
  },
  {
   "cell_type": "code",
   "execution_count": 10,
   "metadata": {},
   "outputs": [
    {
     "name": "stdout",
     "output_type": "stream",
     "text": [
      " * snmpd is running\n"
     ]
    }
   ],
   "source": [
    "%%bash\n",
    "\n",
    "sudo service snmpd restart\n",
    "sudo service snmpd status"
   ]
  },
  {
   "cell_type": "markdown",
   "metadata": {},
   "source": [
    "## Testing GET"
   ]
  },
  {
   "cell_type": "code",
   "execution_count": 14,
   "metadata": {},
   "outputs": [
    {
     "name": "stdout",
     "output_type": "stream",
     "text": [
      "SNMPv2-SMI::experimental.9999.1.0 = STRING: \"Tesla\"\n",
      "SNMPv2-SMI::experimental.9999.2.0 = STRING: \"S\"\n",
      "SNMPv2-SMI::experimental.9999.3.0 = STRING: \"5YJ3E1EA7JF000000\"\n",
      "SNMPv2-SMI::experimental.9999.4.0 = STRING: \"2023.20.11\"\n",
      "SNMPv2-SMI::experimental.9999.5.0 = INTEGER: 150\n"
     ]
    },
    {
     "name": "stdout",
     "output_type": "stream",
     "text": [
      "SNMPv2-SMI::experimental.9999.6.0 = INTEGER: 0\n",
      "SNMPv2-SMI::experimental.9999.7.0 = INTEGER: 0\n",
      "SNMPv2-SMI::experimental.9999.8.0 = INTEGER: 0\n",
      "SNMPv2-SMI::experimental.9999.9.0 = INTEGER: 100\n",
      "SNMPv2-SMI::experimental.9999.10.0 = INTEGER: 30\n",
      "SNMPv2-SMI::experimental.9999.11.0 = INTEGER: 0\n"
     ]
    }
   ],
   "source": [
    "%%bash\n",
    "\n",
    "snmpget -v2c -c public localhost .1.3.6.1.3.9999.1.0\n",
    "snmpget -v2c -c public localhost .1.3.6.1.3.9999.2.0\n",
    "\n",
    "snmpget -v2c -c public localhost .1.3.6.1.3.9999.3.0\n",
    "snmpget -v2c -c public localhost .1.3.6.1.3.9999.4.0\n",
    "\n",
    "snmpget -v2c -c public localhost .1.3.6.1.3.9999.5.0\n",
    "snmpget -v2c -c public localhost .1.3.6.1.3.9999.6.0\n",
    "\n",
    "snmpget -v2c -c public localhost .1.3.6.1.3.9999.7.0\n",
    "snmpget -v2c -c public localhost .1.3.6.1.3.9999.8.0\n",
    "\n",
    "snmpget -v2c -c public localhost .1.3.6.1.3.9999.9.0\n",
    "snmpget -v2c -c public localhost .1.3.6.1.3.9999.10.0\n",
    "\n",
    "snmpget -v2c -c public localhost .1.3.6.1.3.9999.11.0"
   ]
  },
  {
   "cell_type": "markdown",
   "metadata": {},
   "source": [
    "## Testing SET"
   ]
  },
  {
   "cell_type": "code",
   "execution_count": 13,
   "metadata": {},
   "outputs": [
    {
     "name": "stdout",
     "output_type": "stream",
     "text": [
      "SNMPv2-SMI::experimental.9999.5.0 = INTEGER: 150\n"
     ]
    },
    {
     "name": "stdout",
     "output_type": "stream",
     "text": [
      "SNMPv2-SMI::experimental.9999.7.0 = INTEGER: 0\n",
      "SNMPv2-SMI::experimental.9999.11.0 = INTEGER: 1\n"
     ]
    }
   ],
   "source": [
    "%%bash\n",
    "\n",
    "snmpset -v2c -c private localhost .1.3.6.1.3.9999.5.0 i 150\n",
    "\n",
    "snmpset -v2c -c private localhost .1.3.6.1.3.9999.7.0 i 0\n",
    "\n",
    "snmpset -v2c -c private localhost .1.3.6.1.3.9999.11.0 i 1"
   ]
  },
  {
   "cell_type": "markdown",
   "metadata": {},
   "source": [
    "## Testing GETNEXT"
   ]
  },
  {
   "cell_type": "code",
   "execution_count": 31,
   "metadata": {},
   "outputs": [
    {
     "name": "stdout",
     "output_type": "stream",
     "text": [
      "UCD-SNMP-MIB::memIndex.0 = INTEGER: 0\n"
     ]
    }
   ],
   "source": [
    "%%bash\n",
    "\n",
    "#snmpgetnext -v 1 -c public localhost ifDescr\n",
    "\n",
    "snmpgetnext -v2c -c public localhost .1.3.6.1.3.9999.5.0"
   ]
  },
  {
   "cell_type": "markdown",
   "metadata": {},
   "source": [
    "## Testing TABLE"
   ]
  },
  {
   "cell_type": "code",
   "execution_count": 20,
   "metadata": {},
   "outputs": [
    {
     "name": "stderr",
     "output_type": "stream",
     "text": [
      "sensorEntry: Unknown Object Identifier (Sub-id not found: (top) -> sensorEntry)\n"
     ]
    },
    {
     "ename": "CalledProcessError",
     "evalue": "Command 'b'\\n#snmptable -v 1 -c public localhost ifTable\\n\\nsnmptable -v2c -c public localhost sensorEntry\\n'' returned non-zero exit status 1.",
     "output_type": "error",
     "traceback": [
      "\u001b[0;31m---------------------------------------------------------------------------\u001b[0m",
      "\u001b[0;31mCalledProcessError\u001b[0m                        Traceback (most recent call last)",
      "Cell \u001b[0;32mIn[20], line 1\u001b[0m\n\u001b[0;32m----> 1\u001b[0m \u001b[43mget_ipython\u001b[49m\u001b[43m(\u001b[49m\u001b[43m)\u001b[49m\u001b[38;5;241;43m.\u001b[39;49m\u001b[43mrun_cell_magic\u001b[49m\u001b[43m(\u001b[49m\u001b[38;5;124;43m'\u001b[39;49m\u001b[38;5;124;43mbash\u001b[39;49m\u001b[38;5;124;43m'\u001b[39;49m\u001b[43m,\u001b[49m\u001b[43m \u001b[49m\u001b[38;5;124;43m'\u001b[39;49m\u001b[38;5;124;43m'\u001b[39;49m\u001b[43m,\u001b[49m\u001b[43m \u001b[49m\u001b[38;5;124;43m'\u001b[39;49m\u001b[38;5;130;43;01m\\n\u001b[39;49;00m\u001b[38;5;124;43m#snmptable -v 1 -c public localhost ifTable\u001b[39;49m\u001b[38;5;130;43;01m\\n\u001b[39;49;00m\u001b[38;5;130;43;01m\\n\u001b[39;49;00m\u001b[38;5;124;43msnmptable -v2c -c public localhost sensorEntry\u001b[39;49m\u001b[38;5;130;43;01m\\n\u001b[39;49;00m\u001b[38;5;124;43m'\u001b[39;49m\u001b[43m)\u001b[49m\n",
      "File \u001b[0;32m~/.local/lib/python3.10/site-packages/IPython/core/interactiveshell.py:2541\u001b[0m, in \u001b[0;36mInteractiveShell.run_cell_magic\u001b[0;34m(self, magic_name, line, cell)\u001b[0m\n\u001b[1;32m   2539\u001b[0m \u001b[38;5;28;01mwith\u001b[39;00m \u001b[38;5;28mself\u001b[39m\u001b[38;5;241m.\u001b[39mbuiltin_trap:\n\u001b[1;32m   2540\u001b[0m     args \u001b[38;5;241m=\u001b[39m (magic_arg_s, cell)\n\u001b[0;32m-> 2541\u001b[0m     result \u001b[38;5;241m=\u001b[39m \u001b[43mfn\u001b[49m\u001b[43m(\u001b[49m\u001b[38;5;241;43m*\u001b[39;49m\u001b[43margs\u001b[49m\u001b[43m,\u001b[49m\u001b[43m \u001b[49m\u001b[38;5;241;43m*\u001b[39;49m\u001b[38;5;241;43m*\u001b[39;49m\u001b[43mkwargs\u001b[49m\u001b[43m)\u001b[49m\n\u001b[1;32m   2543\u001b[0m \u001b[38;5;66;03m# The code below prevents the output from being displayed\u001b[39;00m\n\u001b[1;32m   2544\u001b[0m \u001b[38;5;66;03m# when using magics with decorator @output_can_be_silenced\u001b[39;00m\n\u001b[1;32m   2545\u001b[0m \u001b[38;5;66;03m# when the last Python token in the expression is a ';'.\u001b[39;00m\n\u001b[1;32m   2546\u001b[0m \u001b[38;5;28;01mif\u001b[39;00m \u001b[38;5;28mgetattr\u001b[39m(fn, magic\u001b[38;5;241m.\u001b[39mMAGIC_OUTPUT_CAN_BE_SILENCED, \u001b[38;5;28;01mFalse\u001b[39;00m):\n",
      "File \u001b[0;32m~/.local/lib/python3.10/site-packages/IPython/core/magics/script.py:155\u001b[0m, in \u001b[0;36mScriptMagics._make_script_magic.<locals>.named_script_magic\u001b[0;34m(line, cell)\u001b[0m\n\u001b[1;32m    153\u001b[0m \u001b[38;5;28;01melse\u001b[39;00m:\n\u001b[1;32m    154\u001b[0m     line \u001b[38;5;241m=\u001b[39m script\n\u001b[0;32m--> 155\u001b[0m \u001b[38;5;28;01mreturn\u001b[39;00m \u001b[38;5;28;43mself\u001b[39;49m\u001b[38;5;241;43m.\u001b[39;49m\u001b[43mshebang\u001b[49m\u001b[43m(\u001b[49m\u001b[43mline\u001b[49m\u001b[43m,\u001b[49m\u001b[43m \u001b[49m\u001b[43mcell\u001b[49m\u001b[43m)\u001b[49m\n",
      "File \u001b[0;32m~/.local/lib/python3.10/site-packages/IPython/core/magics/script.py:315\u001b[0m, in \u001b[0;36mScriptMagics.shebang\u001b[0;34m(self, line, cell)\u001b[0m\n\u001b[1;32m    310\u001b[0m \u001b[38;5;28;01mif\u001b[39;00m args\u001b[38;5;241m.\u001b[39mraise_error \u001b[38;5;129;01mand\u001b[39;00m p\u001b[38;5;241m.\u001b[39mreturncode \u001b[38;5;241m!=\u001b[39m \u001b[38;5;241m0\u001b[39m:\n\u001b[1;32m    311\u001b[0m     \u001b[38;5;66;03m# If we get here and p.returncode is still None, we must have\u001b[39;00m\n\u001b[1;32m    312\u001b[0m     \u001b[38;5;66;03m# killed it but not yet seen its return code. We don't wait for it,\u001b[39;00m\n\u001b[1;32m    313\u001b[0m     \u001b[38;5;66;03m# in case it's stuck in uninterruptible sleep. -9 = SIGKILL\u001b[39;00m\n\u001b[1;32m    314\u001b[0m     rc \u001b[38;5;241m=\u001b[39m p\u001b[38;5;241m.\u001b[39mreturncode \u001b[38;5;129;01mor\u001b[39;00m \u001b[38;5;241m-\u001b[39m\u001b[38;5;241m9\u001b[39m\n\u001b[0;32m--> 315\u001b[0m     \u001b[38;5;28;01mraise\u001b[39;00m CalledProcessError(rc, cell)\n",
      "\u001b[0;31mCalledProcessError\u001b[0m: Command 'b'\\n#snmptable -v 1 -c public localhost ifTable\\n\\nsnmptable -v2c -c public localhost sensorEntry\\n'' returned non-zero exit status 1."
     ]
    }
   ],
   "source": [
    "%%bash\n",
    "\n",
    "#snmptable -v 1 -c public localhost ifTable\n",
    "\n",
    "snmptable -v2c -c public localhost #........"
   ]
  }
 ],
 "metadata": {
  "kernelspec": {
   "display_name": "Python 3",
   "language": "python",
   "name": "python3"
  },
  "language_info": {
   "codemirror_mode": {
    "name": "ipython",
    "version": 3
   },
   "file_extension": ".py",
   "mimetype": "text/x-python",
   "name": "python",
   "nbconvert_exporter": "python",
   "pygments_lexer": "ipython3",
   "version": "3.10.13"
  }
 },
 "nbformat": 4,
 "nbformat_minor": 2
}
